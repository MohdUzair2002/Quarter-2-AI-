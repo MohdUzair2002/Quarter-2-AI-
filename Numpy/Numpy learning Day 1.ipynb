{
 "cells": [
  {
   "cell_type": "code",
   "execution_count": 5,
   "id": "8e86fcf6",
   "metadata": {},
   "outputs": [
    {
     "name": "stdout",
     "output_type": "stream",
     "text": [
      "[[ 0.43224081 -0.32826898 -0.08023839]\n",
      " [-0.00880015 -0.11261308  0.36630059]]\n"
     ]
    }
   ],
   "source": [
    "#generating numpy array with random data\n",
    "\n",
    "import numpy as np\n",
    "array_=np.random.randn(2,3)\n",
    "print(array_)"
   ]
  },
  {
   "cell_type": "code",
   "execution_count": 6,
   "id": "3c686de6",
   "metadata": {},
   "outputs": [
    {
     "data": {
      "text/plain": [
       "array([[ 4.32240812, -3.2826898 , -0.80238392],\n",
       "       [-0.08800148, -1.12613077,  3.66300589]])"
      ]
     },
     "execution_count": 6,
     "metadata": {},
     "output_type": "execute_result"
    }
   ],
   "source": [
    "array_*10\n",
    "\n"
   ]
  },
  {
   "cell_type": "code",
   "execution_count": 7,
   "id": "96cc900f",
   "metadata": {},
   "outputs": [
    {
     "data": {
      "text/plain": [
       "array([[ 0.86448162, -0.65653796, -0.16047678],\n",
       "       [-0.0176003 , -0.22522615,  0.73260118]])"
      ]
     },
     "execution_count": 7,
     "metadata": {},
     "output_type": "execute_result"
    }
   ],
   "source": [
    "array_+array_\n",
    "\n"
   ]
  },
  {
   "cell_type": "code",
   "execution_count": 8,
   "id": "1e771e1c",
   "metadata": {},
   "outputs": [
    {
     "data": {
      "text/plain": [
       "(2, 3)"
      ]
     },
     "execution_count": 8,
     "metadata": {},
     "output_type": "execute_result"
    }
   ],
   "source": [
    "array_.shape\n"
   ]
  },
  {
   "cell_type": "code",
   "execution_count": 9,
   "id": "bbb18624",
   "metadata": {},
   "outputs": [
    {
     "data": {
      "text/plain": [
       "dtype('float64')"
      ]
     },
     "execution_count": 9,
     "metadata": {},
     "output_type": "execute_result"
    }
   ],
   "source": [
    "array_.dtype"
   ]
  },
  {
   "cell_type": "code",
   "execution_count": 10,
   "id": "e014972e",
   "metadata": {},
   "outputs": [
    {
     "data": {
      "text/plain": [
       "array([1, 2, 3])"
      ]
     },
     "execution_count": 10,
     "metadata": {},
     "output_type": "execute_result"
    }
   ],
   "source": [
    "data=[1,2,3]\n",
    "np.array(data)"
   ]
  },
  {
   "cell_type": "code",
   "execution_count": 17,
   "id": "091064ed",
   "metadata": {},
   "outputs": [
    {
     "data": {
      "text/plain": [
       "2"
      ]
     },
     "execution_count": 17,
     "metadata": {},
     "output_type": "execute_result"
    }
   ],
   "source": [
    "data1=[[1,2],[3,4]]\n",
    "data1=np.array(data1)\n",
    "data1.ndim\n",
    "\n"
   ]
  },
  {
   "cell_type": "code",
   "execution_count": 18,
   "id": "1024689a",
   "metadata": {},
   "outputs": [
    {
     "data": {
      "text/plain": [
       "(2, 2)"
      ]
     },
     "execution_count": 18,
     "metadata": {},
     "output_type": "execute_result"
    }
   ],
   "source": [
    "data1.shape"
   ]
  },
  {
   "cell_type": "code",
   "execution_count": 19,
   "id": "1f913bbf",
   "metadata": {},
   "outputs": [
    {
     "data": {
      "text/plain": [
       "dtype('int32')"
      ]
     },
     "execution_count": 19,
     "metadata": {},
     "output_type": "execute_result"
    }
   ],
   "source": [
    "data1.dtype"
   ]
  },
  {
   "cell_type": "code",
   "execution_count": 20,
   "id": "ab979677",
   "metadata": {},
   "outputs": [
    {
     "data": {
      "text/plain": [
       "array([0., 0., 0., 0., 0., 0., 0., 0., 0., 0.])"
      ]
     },
     "execution_count": 20,
     "metadata": {},
     "output_type": "execute_result"
    }
   ],
   "source": [
    "np.zeros(10)"
   ]
  },
  {
   "cell_type": "code",
   "execution_count": 22,
   "id": "2918d543",
   "metadata": {},
   "outputs": [
    {
     "data": {
      "text/plain": [
       "array([[0., 0., 0., 0., 0., 0.],\n",
       "       [0., 0., 0., 0., 0., 0.],\n",
       "       [0., 0., 0., 0., 0., 0.]])"
      ]
     },
     "execution_count": 22,
     "metadata": {},
     "output_type": "execute_result"
    }
   ],
   "source": [
    "np.zeros((3,6))"
   ]
  },
  {
   "cell_type": "code",
   "execution_count": 23,
   "id": "55140b35",
   "metadata": {},
   "outputs": [
    {
     "data": {
      "text/plain": [
       "array([[1., 1., 1., 1.],\n",
       "       [1., 1., 1., 1.]])"
      ]
     },
     "execution_count": 23,
     "metadata": {},
     "output_type": "execute_result"
    }
   ],
   "source": [
    "np.ones((2,4))"
   ]
  },
  {
   "cell_type": "code",
   "execution_count": 25,
   "id": "39c9ed9b",
   "metadata": {},
   "outputs": [
    {
     "data": {
      "text/plain": [
       "array([[[4.45057637e-308, 1.78021527e-306],\n",
       "        [8.45549797e-307, 1.37962049e-306],\n",
       "        [1.11260619e-306, 1.78010255e-306]],\n",
       "\n",
       "       [[1.42409073e-306, 4.45058910e-308],\n",
       "        [8.45596650e-307, 9.34602321e-307],\n",
       "        [4.94065646e-322, 8.32379756e-071]]])"
      ]
     },
     "execution_count": 25,
     "metadata": {},
     "output_type": "execute_result"
    }
   ],
   "source": [
    "np.empty((2,3,2))"
   ]
  },
  {
   "cell_type": "code",
   "execution_count": 27,
   "id": "0f260264",
   "metadata": {},
   "outputs": [
    {
     "data": {
      "text/plain": [
       "array([ 0,  1,  2,  3,  4,  5,  6,  7,  8,  9, 10, 11, 12, 13, 14])"
      ]
     },
     "execution_count": 27,
     "metadata": {},
     "output_type": "execute_result"
    }
   ],
   "source": [
    "np.arange(15)"
   ]
  },
  {
   "cell_type": "code",
   "execution_count": 28,
   "id": "8afcc53c",
   "metadata": {},
   "outputs": [
    {
     "data": {
      "text/plain": [
       "array([-218555792,        560,          0])"
      ]
     },
     "execution_count": 28,
     "metadata": {},
     "output_type": "execute_result"
    }
   ],
   "source": [
    "np.empty_like((2,3,2))"
   ]
  },
  {
   "cell_type": "code",
   "execution_count": 29,
   "id": "31935fe5",
   "metadata": {},
   "outputs": [],
   "source": [
    "arr1=np.array([1,2,3], dtype=np.float64)"
   ]
  },
  {
   "cell_type": "code",
   "execution_count": 30,
   "id": "918f33a2",
   "metadata": {},
   "outputs": [
    {
     "data": {
      "text/plain": [
       "dtype('float64')"
      ]
     },
     "execution_count": 30,
     "metadata": {},
     "output_type": "execute_result"
    }
   ],
   "source": [
    "arr1.dtype"
   ]
  },
  {
   "cell_type": "code",
   "execution_count": 36,
   "id": "ef9baa8b",
   "metadata": {},
   "outputs": [
    {
     "data": {
      "text/plain": [
       "array([1, 2, 3])"
      ]
     },
     "execution_count": 36,
     "metadata": {},
     "output_type": "execute_result"
    }
   ],
   "source": [
    "arr2=np.array([1.12,2.2,3.3])\n",
    "arr2.astype(np.int32)\n"
   ]
  },
  {
   "cell_type": "code",
   "execution_count": 37,
   "id": "099d136b",
   "metadata": {},
   "outputs": [
    {
     "data": {
      "text/plain": [
       "array([1, 2, 3], dtype=int64)"
      ]
     },
     "execution_count": 37,
     "metadata": {},
     "output_type": "execute_result"
    }
   ],
   "source": [
    "arr2.astype(np.int64)"
   ]
  },
  {
   "cell_type": "code",
   "execution_count": 38,
   "id": "64532052",
   "metadata": {},
   "outputs": [],
   "source": [
    "#Calling astype always creates a new array (a copy of the data), even\n",
    "#if the new dtype is the same as the old dtype"
   ]
  },
  {
   "cell_type": "code",
   "execution_count": 46,
   "id": "71aef36a",
   "metadata": {},
   "outputs": [
    {
     "data": {
      "text/plain": [
       "array([4016303024,        560,          0,    5570652,        616,\n",
       "                0,        768,        560], dtype=uint32)"
      ]
     },
     "execution_count": 46,
     "metadata": {},
     "output_type": "execute_result"
    }
   ],
   "source": [
    "np.empty(8,dtype='u4')"
   ]
  },
  {
   "cell_type": "code",
   "execution_count": 49,
   "id": "7ff886d3",
   "metadata": {},
   "outputs": [
    {
     "data": {
      "text/plain": [
       "False"
      ]
     },
     "execution_count": 49,
     "metadata": {},
     "output_type": "execute_result"
    }
   ],
   "source": [
    "arr11=[1,2,3]\n",
    "arr22=[2,3,4]\n",
    "ar11=np.array(arr11)\n",
    "ar22=np.array(arr22)\n",
    "arr11 > arr22"
   ]
  },
  {
   "cell_type": "code",
   "execution_count": 54,
   "id": "3cc971d0",
   "metadata": {},
   "outputs": [
    {
     "data": {
      "text/plain": [
       "array([2, 3])"
      ]
     },
     "execution_count": 54,
     "metadata": {},
     "output_type": "execute_result"
    }
   ],
   "source": [
    "arr_slic=ar11[1:]\n",
    "arr_slic"
   ]
  },
  {
   "cell_type": "code",
   "execution_count": 59,
   "id": "448b71ac",
   "metadata": {},
   "outputs": [
    {
     "data": {
      "text/plain": [
       "array([ 1, 63, 63])"
      ]
     },
     "execution_count": 59,
     "metadata": {},
     "output_type": "execute_result"
    }
   ],
   "source": [
    "arr_slic[:]=63\n",
    "ar11"
   ]
  },
  {
   "cell_type": "code",
   "execution_count": 61,
   "id": "e7cdb167",
   "metadata": {},
   "outputs": [
    {
     "data": {
      "text/plain": [
       "array(['Bob', 'Joe', 'Will', 'Bob', 'Will', 'Joe', 'Joe'], dtype='<U4')"
      ]
     },
     "execution_count": 61,
     "metadata": {},
     "output_type": "execute_result"
    }
   ],
   "source": [
    "names = np.array(['Bob', 'Joe', 'Will', 'Bob', 'Will', 'Joe', 'Joe'])\n",
    "names"
   ]
  },
  {
   "cell_type": "code",
   "execution_count": 62,
   "id": "eaaea170",
   "metadata": {},
   "outputs": [
    {
     "data": {
      "text/plain": [
       "array([[-0.44702637, -0.85002032,  0.11370754, -0.06936034],\n",
       "       [ 0.88707747, -0.44024513, -1.52656469,  0.11477497],\n",
       "       [-0.96180714,  0.14032725,  0.62609691,  0.2514206 ],\n",
       "       [-1.3503009 ,  1.56814109,  0.76363086,  0.6038585 ],\n",
       "       [ 0.82754697,  0.69375371,  2.31314478,  0.83176893],\n",
       "       [-0.1883192 , -0.59851157,  0.96118753,  1.00811832],\n",
       "       [ 0.48091008,  0.71069186, -0.11798579, -0.22821256]])"
      ]
     },
     "execution_count": 62,
     "metadata": {},
     "output_type": "execute_result"
    }
   ],
   "source": [
    "data = np.random.randn(7, 4)\n",
    "data"
   ]
  },
  {
   "cell_type": "code",
   "execution_count": 63,
   "id": "66bce676",
   "metadata": {},
   "outputs": [
    {
     "data": {
      "text/plain": [
       "array([ True, False, False,  True, False, False, False])"
      ]
     },
     "execution_count": 63,
     "metadata": {},
     "output_type": "execute_result"
    }
   ],
   "source": [
    "names==\"Bob\""
   ]
  },
  {
   "cell_type": "code",
   "execution_count": 64,
   "id": "b25af817",
   "metadata": {},
   "outputs": [
    {
     "data": {
      "text/plain": [
       "array([[-0.44702637, -0.85002032,  0.11370754, -0.06936034],\n",
       "       [-1.3503009 ,  1.56814109,  0.76363086,  0.6038585 ]])"
      ]
     },
     "execution_count": 64,
     "metadata": {},
     "output_type": "execute_result"
    }
   ],
   "source": [
    "data[names==\"Bob\"]"
   ]
  },
  {
   "cell_type": "code",
   "execution_count": 65,
   "id": "a0cf2631",
   "metadata": {},
   "outputs": [
    {
     "data": {
      "text/plain": [
       "array([[ 0.11370754, -0.06936034],\n",
       "       [ 0.76363086,  0.6038585 ]])"
      ]
     },
     "execution_count": 65,
     "metadata": {},
     "output_type": "execute_result"
    }
   ],
   "source": [
    "data[names==\"Bob\",2:]"
   ]
  },
  {
   "cell_type": "code",
   "execution_count": 66,
   "id": "0826ec91",
   "metadata": {},
   "outputs": [
    {
     "data": {
      "text/plain": [
       "array([[-0.44702637, -0.85002032,  0.11370754, -0.06936034],\n",
       "       [ 0.88707747, -0.44024513, -1.52656469,  0.11477497],\n",
       "       [-0.96180714,  0.14032725,  0.62609691,  0.2514206 ],\n",
       "       [-1.3503009 ,  1.56814109,  0.76363086,  0.6038585 ],\n",
       "       [ 0.82754697,  0.69375371,  2.31314478,  0.83176893],\n",
       "       [-0.1883192 , -0.59851157,  0.96118753,  1.00811832],\n",
       "       [ 0.48091008,  0.71069186, -0.11798579, -0.22821256]])"
      ]
     },
     "execution_count": 66,
     "metadata": {},
     "output_type": "execute_result"
    }
   ],
   "source": [
    "#invert a condition\n",
    "cond=names==\"bob\"\n",
    "data[~cond]"
   ]
  },
  {
   "cell_type": "code",
   "execution_count": 68,
   "id": "c3da436c",
   "metadata": {},
   "outputs": [
    {
     "data": {
      "text/plain": [
       "array([[ 7.        ,  7.        ,  7.        ,  7.        ],\n",
       "       [ 0.88707747, -0.44024513, -1.52656469,  0.11477497],\n",
       "       [ 7.        ,  7.        ,  7.        ,  7.        ],\n",
       "       [ 7.        ,  7.        ,  7.        ,  7.        ],\n",
       "       [ 7.        ,  7.        ,  7.        ,  7.        ],\n",
       "       [-0.1883192 , -0.59851157,  0.96118753,  1.00811832],\n",
       "       [ 0.48091008,  0.71069186, -0.11798579, -0.22821256]])"
      ]
     },
     "execution_count": 68,
     "metadata": {},
     "output_type": "execute_result"
    }
   ],
   "source": [
    " data[names != 'Joe'] = 7\n",
    "data"
   ]
  },
  {
   "cell_type": "code",
   "execution_count": 1,
   "id": "ab435522",
   "metadata": {},
   "outputs": [
    {
     "data": {
      "text/plain": [
       "array([[1, 2, 3],\n",
       "       [4, 5, 6]])"
      ]
     },
     "execution_count": 1,
     "metadata": {},
     "output_type": "execute_result"
    }
   ],
   "source": [
    "arr2d=np.array([[1, 2, 3],[4, 5, 6],[7, 8, 9]])\n",
    "arr2d[:2]\n"
   ]
  },
  {
   "cell_type": "code",
   "execution_count": 2,
   "id": "a775c88b",
   "metadata": {},
   "outputs": [
    {
     "data": {
      "text/plain": [
       "array([[2, 3],\n",
       "       [5, 6]])"
      ]
     },
     "execution_count": 2,
     "metadata": {},
     "output_type": "execute_result"
    }
   ],
   "source": [
    "#passing multiple indexes\n",
    "arr2d[:2,1:]"
   ]
  },
  {
   "cell_type": "code",
   "execution_count": 3,
   "id": "384af30a",
   "metadata": {},
   "outputs": [],
   "source": [
    "#randn do generate some random normally distributed data:\n"
   ]
  },
  {
   "cell_type": "code",
   "execution_count": 4,
   "id": "7a4c7db0",
   "metadata": {},
   "outputs": [
    {
     "data": {
      "text/plain": [
       "array([[1.69759663e-313, 8.94493575e-312, 8.94463840e-312,\n",
       "        0.00000000e+000],\n",
       "       [0.00000000e+000, 8.94493575e-312, 8.94463840e-312,\n",
       "        0.00000000e+000],\n",
       "       [0.00000000e+000, 8.94493456e-312, 8.94493578e-312,\n",
       "        0.00000000e+000],\n",
       "       [0.00000000e+000, 8.94493457e-312, 8.94493578e-312,\n",
       "        0.00000000e+000],\n",
       "       [0.00000000e+000, 8.94493576e-312, 8.94463840e-312,\n",
       "        0.00000000e+000],\n",
       "       [0.00000000e+000, 8.94500946e-312, 8.94500946e-312,\n",
       "        8.94500946e-312],\n",
       "       [8.94500946e-312, 8.94500946e-312, 8.94500946e-312,\n",
       "        8.94500833e-312],\n",
       "       [8.94500833e-312, 8.94500833e-312, 8.94500833e-312,\n",
       "        8.94500833e-312]])"
      ]
     },
     "execution_count": 4,
     "metadata": {},
     "output_type": "execute_result"
    }
   ],
   "source": [
    "arr = np.empty((8, 4))\n",
    "arr"
   ]
  },
  {
   "cell_type": "code",
   "execution_count": 6,
   "id": "6d15bb49",
   "metadata": {},
   "outputs": [
    {
     "data": {
      "text/plain": [
       "array([[0., 0., 0., 0.],\n",
       "       [1., 1., 1., 1.],\n",
       "       [2., 2., 2., 2.],\n",
       "       [3., 3., 3., 3.],\n",
       "       [4., 4., 4., 4.],\n",
       "       [5., 5., 5., 5.],\n",
       "       [6., 6., 6., 6.],\n",
       "       [7., 7., 7., 7.]])"
      ]
     },
     "execution_count": 6,
     "metadata": {},
     "output_type": "execute_result"
    }
   ],
   "source": [
    "for i in range(8):\n",
    "    arr[i]=i\n",
    "arr"
   ]
  },
  {
   "cell_type": "code",
   "execution_count": 7,
   "id": "ddf0f696",
   "metadata": {},
   "outputs": [],
   "source": [
    "#To select out a subset of the rows in a particular order, you can simply pass a list or\n",
    "#ndarray of integers specifying the desired order:"
   ]
  },
  {
   "cell_type": "code",
   "execution_count": 11,
   "id": "803d3f33",
   "metadata": {},
   "outputs": [
    {
     "data": {
      "text/plain": [
       "array([[4., 4., 4., 4.],\n",
       "       [3., 3., 3., 3.],\n",
       "       [0., 0., 0., 0.]])"
      ]
     },
     "execution_count": 11,
     "metadata": {},
     "output_type": "execute_result"
    }
   ],
   "source": [
    "arr[[4,3,0]]"
   ]
  },
  {
   "cell_type": "code",
   "execution_count": 13,
   "id": "f2f5091f",
   "metadata": {},
   "outputs": [
    {
     "data": {
      "text/plain": [
       "array([[4., 4., 4., 4.],\n",
       "       [5., 5., 5., 5.],\n",
       "       [0., 0., 0., 0.]])"
      ]
     },
     "execution_count": 13,
     "metadata": {},
     "output_type": "execute_result"
    }
   ],
   "source": [
    "arr[[-4,-3,-0]]"
   ]
  },
  {
   "cell_type": "code",
   "execution_count": 17,
   "id": "b6cf2f41",
   "metadata": {},
   "outputs": [
    {
     "data": {
      "text/plain": [
       "array([[ 0,  1,  2,  3],\n",
       "       [ 4,  5,  6,  7],\n",
       "       [ 8,  9, 10, 11],\n",
       "       [12, 13, 14, 15],\n",
       "       [16, 17, 18, 19],\n",
       "       [20, 21, 22, 23],\n",
       "       [24, 25, 26, 27],\n",
       "       [28, 29, 30, 31]])"
      ]
     },
     "execution_count": 17,
     "metadata": {},
     "output_type": "execute_result"
    }
   ],
   "source": [
    "arr = np.arange(32).reshape((8, 4))\n",
    "arr"
   ]
  },
  {
   "cell_type": "code",
   "execution_count": 18,
   "id": "1b5dbaa0",
   "metadata": {},
   "outputs": [
    {
     "data": {
      "text/plain": [
       "array([[ 0,  4,  8, 12, 16, 20, 24, 28],\n",
       "       [ 1,  5,  9, 13, 17, 21, 25, 29],\n",
       "       [ 2,  6, 10, 14, 18, 22, 26, 30],\n",
       "       [ 3,  7, 11, 15, 19, 23, 27, 31]])"
      ]
     },
     "execution_count": 18,
     "metadata": {},
     "output_type": "execute_result"
    }
   ],
   "source": [
    "arr.T"
   ]
  },
  {
   "cell_type": "code",
   "execution_count": 23,
   "id": "e21b033c",
   "metadata": {},
   "outputs": [
    {
     "data": {
      "text/plain": [
       "array([[[ 0,  1,  2,  3],\n",
       "        [ 4,  5,  6,  7]],\n",
       "\n",
       "       [[ 8,  9, 10, 11],\n",
       "        [12, 13, 14, 15]]])"
      ]
     },
     "execution_count": 23,
     "metadata": {},
     "output_type": "execute_result"
    }
   ],
   "source": [
    "arr = np.arange(16).reshape((2, 2, 4))\n",
    "arr"
   ]
  },
  {
   "cell_type": "code",
   "execution_count": 28,
   "id": "b927f723",
   "metadata": {},
   "outputs": [
    {
     "data": {
      "text/plain": [
       "array([[[ 0,  1,  2,  3],\n",
       "        [ 8,  9, 10, 11]],\n",
       "\n",
       "       [[ 4,  5,  6,  7],\n",
       "        [12, 13, 14, 15]]])"
      ]
     },
     "execution_count": 28,
     "metadata": {},
     "output_type": "execute_result"
    }
   ],
   "source": [
    "arr.transpose((1, 0, 2))"
   ]
  },
  {
   "cell_type": "raw",
   "id": "f5be542a",
   "metadata": {},
   "source": []
  },
  {
   "cell_type": "code",
   "execution_count": 35,
   "id": "ef2854f1",
   "metadata": {},
   "outputs": [
    {
     "data": {
      "text/plain": [
       "array([[[ 0,  4],\n",
       "        [ 1,  5],\n",
       "        [ 2,  6],\n",
       "        [ 3,  7]],\n",
       "\n",
       "       [[ 8, 12],\n",
       "        [ 9, 13],\n",
       "        [10, 14],\n",
       "        [11, 15]]])"
      ]
     },
     "execution_count": 35,
     "metadata": {},
     "output_type": "execute_result"
    }
   ],
   "source": [
    "arr.swapaxes(1,2)"
   ]
  },
  {
   "cell_type": "code",
   "execution_count": 36,
   "id": "754e32e5",
   "metadata": {},
   "outputs": [
    {
     "data": {
      "text/plain": [
       "array([[[0.        , 1.        , 1.41421356, 1.73205081],\n",
       "        [2.        , 2.23606798, 2.44948974, 2.64575131]],\n",
       "\n",
       "       [[2.82842712, 3.        , 3.16227766, 3.31662479],\n",
       "        [3.46410162, 3.60555128, 3.74165739, 3.87298335]]])"
      ]
     },
     "execution_count": 36,
     "metadata": {},
     "output_type": "execute_result"
    }
   ],
   "source": [
    "np.sqrt(arr)"
   ]
  },
  {
   "cell_type": "code",
   "execution_count": 37,
   "id": "3a5047e1",
   "metadata": {},
   "outputs": [
    {
     "data": {
      "text/plain": [
       "array([[[1.00000000e+00, 2.71828183e+00, 7.38905610e+00, 2.00855369e+01],\n",
       "        [5.45981500e+01, 1.48413159e+02, 4.03428793e+02, 1.09663316e+03]],\n",
       "\n",
       "       [[2.98095799e+03, 8.10308393e+03, 2.20264658e+04, 5.98741417e+04],\n",
       "        [1.62754791e+05, 4.42413392e+05, 1.20260428e+06, 3.26901737e+06]]])"
      ]
     },
     "execution_count": 37,
     "metadata": {},
     "output_type": "execute_result"
    }
   ],
   "source": [
    " np.exp(arr)"
   ]
  },
  {
   "cell_type": "code",
   "execution_count": null,
   "id": "e08ee8c8",
   "metadata": {},
   "outputs": [],
   "source": []
  },
  {
   "cell_type": "code",
   "execution_count": null,
   "id": "522cc8e4",
   "metadata": {},
   "outputs": [],
   "source": []
  }
 ],
 "metadata": {
  "kernelspec": {
   "display_name": "Python 3 (ipykernel)",
   "language": "python",
   "name": "python3"
  },
  "language_info": {
   "codemirror_mode": {
    "name": "ipython",
    "version": 3
   },
   "file_extension": ".py",
   "mimetype": "text/x-python",
   "name": "python",
   "nbconvert_exporter": "python",
   "pygments_lexer": "ipython3",
   "version": "3.9.13"
  },
  "varInspector": {
   "cols": {
    "lenName": 16,
    "lenType": 16,
    "lenVar": 40
   },
   "kernels_config": {
    "python": {
     "delete_cmd_postfix": "",
     "delete_cmd_prefix": "del ",
     "library": "var_list.py",
     "varRefreshCmd": "print(var_dic_list())"
    },
    "r": {
     "delete_cmd_postfix": ") ",
     "delete_cmd_prefix": "rm(",
     "library": "var_list.r",
     "varRefreshCmd": "cat(var_dic_list()) "
    }
   },
   "types_to_exclude": [
    "module",
    "function",
    "builtin_function_or_method",
    "instance",
    "_Feature"
   ],
   "window_display": false
  }
 },
 "nbformat": 4,
 "nbformat_minor": 5
}
